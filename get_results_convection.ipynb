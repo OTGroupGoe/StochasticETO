{
 "cells": [
  {
   "cell_type": "code",
   "execution_count": null,
   "id": "267aa87f",
   "metadata": {},
   "outputs": [],
   "source": [
    "import numpy as np\n",
    "from lib.get_Data_convection import Get_data"
   ]
  },
  {
   "cell_type": "markdown",
   "id": "84532d54",
   "metadata": {},
   "source": [
    "### Data for fig 5, 6"
   ]
  },
  {
   "cell_type": "code",
   "execution_count": null,
   "id": "bcd7b571",
   "metadata": {},
   "outputs": [],
   "source": [
    "epslist = np.unique(np.logspace(-2,1,100))\n",
    "rotlist = [0]\n",
    "laglist = [1]\n",
    "skiplist = [60]\n",
    "Get_data(rotlist,epslist,laglist,skiplist)"
   ]
  },
  {
   "cell_type": "markdown",
   "id": "bbaab5a6",
   "metadata": {},
   "source": [
    "### Data for fig 7"
   ]
  },
  {
   "cell_type": "code",
   "execution_count": null,
   "id": "773378e9",
   "metadata": {},
   "outputs": [],
   "source": [
    "skiplist = np.arange(1,15)\n",
    "rotlist = [0]\n",
    "laglist = [1]\n",
    "epslist = [.1]\n",
    "Get_data(rotlist,epslist,laglist,skiplist)"
   ]
  },
  {
   "cell_type": "markdown",
   "id": "503ae8a4",
   "metadata": {},
   "source": [
    "### Data for fig 8"
   ]
  },
  {
   "cell_type": "code",
   "execution_count": null,
   "id": "06a03042",
   "metadata": {},
   "outputs": [],
   "source": [
    "epslist = np.linspace(.01,.1,20)\n",
    "rotlist = [1]\n",
    "laglist = [1]\n",
    "skiplist = [1]\n",
    "Get_data(rotlist,epslist,laglist,skiplist)"
   ]
  },
  {
   "cell_type": "markdown",
   "id": "71fee8cd",
   "metadata": {},
   "source": [
    "### Data for fig 9"
   ]
  },
  {
   "cell_type": "code",
   "execution_count": null,
   "id": "726e5213",
   "metadata": {},
   "outputs": [],
   "source": [
    "laglist = np.arange(1,14)\n",
    "rotlist = [1]\n",
    "skiplist = [1]\n",
    "epslist = np.linspace(.05,.1,11)\n",
    "Get_data(rotlist,epslist,laglist,skiplist)"
   ]
  }
 ],
 "metadata": {
  "kernelspec": {
   "display_name": "Python 3.8.10 ('Clement')",
   "language": "python",
   "name": "python3"
  },
  "language_info": {
   "codemirror_mode": {
    "name": "ipython",
    "version": 3
   },
   "file_extension": ".py",
   "mimetype": "text/x-python",
   "name": "python",
   "nbconvert_exporter": "python",
   "pygments_lexer": "ipython3",
   "version": "3.8.10"
  },
  "vscode": {
   "interpreter": {
    "hash": "962ecfe920312392cb1e9a6f015d357e1fde5e1aa47e9d7214a9caecb5644e59"
   }
  }
 },
 "nbformat": 4,
 "nbformat_minor": 5
}
