{
 "cells": [
  {
   "cell_type": "code",
   "execution_count": 1,
   "metadata": {},
   "outputs": [],
   "source": [
    "from lib.get_L2 import *\n",
    "import numpy as np\n",
    "import scipy as sp\n",
    "import pandas as pd\n",
    "import matplotlib.pyplot as plt \n",
    "from multiprocessing import Pool\n",
    "import itertools\n",
    "import tqdm"
   ]
  },
  {
   "cell_type": "code",
   "execution_count": 3,
   "metadata": {},
   "outputs": [
    {
     "name": "stdout",
     "output_type": "stream",
     "text": [
      "10 with eps = 0.0025\n",
      "10 with eps = 0.0025\n"
     ]
    }
   ],
   "source": [
    "#2b,d\n",
    "std = .01\n",
    "jump = .3\n",
    "jump_prob = .5\n",
    "dim = 1\n",
    "Nlist = np.unique(np.logspace(0,3.5,50,dtype = int))\n",
    "epsList = [.001,.0025,.01]\n",
    "\n",
    "for N,ve in itertools.product(Nlist,epsList):\n",
    "    def sample(I):\n",
    "        for _ in range(10):\n",
    "            try:\n",
    "                Sample_torus_L2(N,std,jump,jump_prob,ve,dim)\n",
    "                break\n",
    "            except ValueError:\n",
    "                print(f\"Sinkhorn didn't converge at N = {N} with eps = {ve}, the sample is omitted\")\n",
    "        return\n",
    "    if __name__ == '__main__':\n",
    "        with Pool(128) as p:\n",
    "            p.map(sample,np.arange(128))"
   ]
  },
  {
   "cell_type": "code",
   "execution_count": 2,
   "metadata": {},
   "outputs": [
    {
     "name": "stdout",
     "output_type": "stream",
     "text": [
      "11 with eps = 0.001\n"
     ]
    }
   ],
   "source": [
    "#2c\n",
    "jump = .3\n",
    "jump_prob = .5\n",
    "dim = 1\n",
    "ve = .001\n",
    "stdList = [.05, .2]\n",
    "Nlist = np.unique(np.logspace(0,3.5,50,dtype = int))\n",
    "# epsList = [.001,.0025,.01]\n",
    "\n",
    "for N,std in itertools.product(Nlist,stdList):\n",
    "    def sample(I):\n",
    "        for _ in range(10):\n",
    "            try:\n",
    "                Sample_torus_L2(N,std,jump,jump_prob,ve,dim)\n",
    "                break\n",
    "            except ValueError:\n",
    "                print(f\"Sinkhorn didn't converge at N = {N} with eps = {ve}, the sample is omitted\")\n",
    "        return\n",
    "    if __name__ == '__main__':\n",
    "        with Pool(128) as p:\n",
    "            p.map(sample,np.arange(128))"
   ]
  },
  {
   "cell_type": "code",
   "execution_count": null,
   "metadata": {},
   "outputs": [],
   "source": [
    "#4\n",
    "jump = .3\n",
    "jump_prob = .5\n",
    "dimList = [2,3]\n",
    "std = .01\n",
    "epsList = [.001,.0025,.01]\n",
    "Nlist = np.unique(np.logspace(0,3.5,50,dtype = int))\n",
    "for N,dim,ve in itertools.product(Nlist,dimList,epsList):\n",
    "    def sample(I):\n",
    "        for _ in range(10):\n",
    "            try:\n",
    "                Sample_torus_L2(N,std,jump,jump_prob,ve,dim)\n",
    "                break\n",
    "            except ValueError:\n",
    "                print(f\"Sinkhorn didn't converge at N = {N} with eps = {ve}, the sample is omitted\")\n",
    "        return\n",
    "    if __name__ == '__main__':\n",
    "        with Pool(128) as p:\n",
    "            p.map(sample,np.arange(128))"
   ]
  }
 ],
 "metadata": {
  "kernelspec": {
   "display_name": "Python 3 (ipykernel)",
   "language": "python",
   "name": "python3"
  },
  "language_info": {
   "codemirror_mode": {
    "name": "ipython",
    "version": 3
   },
   "file_extension": ".py",
   "mimetype": "text/x-python",
   "name": "python",
   "nbconvert_exporter": "python",
   "pygments_lexer": "ipython3",
   "version": "3.8.10"
  },
  "vscode": {
   "interpreter": {
    "hash": "962ecfe920312392cb1e9a6f015d357e1fde5e1aa47e9d7214a9caecb5644e59"
   }
  }
 },
 "nbformat": 4,
 "nbformat_minor": 2
}
